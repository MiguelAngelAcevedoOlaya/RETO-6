{
  "nbformat": 4,
  "nbformat_minor": 0,
  "metadata": {
    "colab": {
      "provenance": []
    },
    "kernelspec": {
      "name": "python3",
      "display_name": "Python 3"
    },
    "language_info": {
      "name": "python"
    }
  },
  "cells": [
    {
      "cell_type": "code",
      "execution_count": 3,
      "metadata": {
        "colab": {
          "base_uri": "https://localhost:8080/"
        },
        "id": "_1XxFYtLz7wc",
        "outputId": "5bbd2848-f80b-4c44-b901-c9c2386faf0a"
      },
      "outputs": [
        {
          "output_type": "stream",
          "name": "stdout",
          "text": [
            "Ingresa el número 1:11\n",
            "Ingresa el número 2:4\n",
            "Ingresa el número 3:5\n",
            "Ingresa el número 4:6\n",
            "Ingresa el número 5:8\n",
            "El orden ascendete de los números es 11.0 8.0 6.0 5.0 4.0\n"
          ]
        }
      ],
      "source": [
        "def ordes_(numero_1:float, numero_2:float, numero_3:float, numero_4: float, numero_5: float) -> float:\n",
        "\n",
        "    if numero_1 < numero_2:\n",
        "      aux_n = numero_2\n",
        "      numero_2 = numero_1\n",
        "      numero_1 = aux_n\n",
        "\n",
        "    if numero_1 < numero_3:\n",
        "      aux_n = numero_3\n",
        "      numero_3 = numero_1\n",
        "      numero_1 = aux_n\n",
        "\n",
        "    if numero_1 < numero_3:\n",
        "      aux_n = numero_3\n",
        "      numero_3 = numero_1\n",
        "      numero_1 = aux_n\n",
        "\n",
        "    if numero_1 < numero_4:\n",
        "      aux_n = numero_4\n",
        "      numero_4 = numero_1\n",
        "      numero_1 = aux_n\n",
        "\n",
        "    if numero_1 < numero_5:\n",
        "      aux_n = numero_5\n",
        "      numero_5 = numero_1\n",
        "      numero_1 = aux_n\n",
        "\n",
        "    if numero_2 < numero_3:\n",
        "      aux_n = numero_3\n",
        "      numero_3 = numero_2\n",
        "      numero_2 = aux_n\n",
        "\n",
        "    if numero_2 < numero_4:\n",
        "      aux_n = numero_4\n",
        "      numero_4 = numero_2\n",
        "      numero_2 = aux_n\n",
        "\n",
        "    if numero_2 < numero_4:\n",
        "      aux_n = numero_4\n",
        "      numero_4 = numero_2\n",
        "      numero_2 = aux_n\n",
        "\n",
        "    if numero_2 < numero_5:\n",
        "      aux_n = numero_5\n",
        "      numero_5 = numero_2\n",
        "      numero_2 = aux_n\n",
        "\n",
        "    if numero_3 < numero_4:\n",
        "      aux_n = numero_4\n",
        "      numero_4 = numero_3\n",
        "      numero_3 = aux_n\n",
        "\n",
        "    if numero_3 < numero_5:\n",
        "      aux_n = numero_5\n",
        "      numero_5 = numero_3\n",
        "      numero_3 = aux_n\n",
        "\n",
        "    if numero_4 < numero_5:\n",
        "      aux_n = numero_5\n",
        "      numero_5 = numero_4\n",
        "      numero_4 = aux_n\n",
        "\n",
        "    return str(numero_1)+' '+str(numero_2)+' '+str(numero_3)+' '+str(numero_4)+' '+str(numero_5)\n",
        "    #Se definio una variable que imprime el orden descendente de los datos\n",
        "\n",
        "if __name__ == \"__main__\":\n",
        "  numero_1 = float(input(\"Ingresa el número 1:\"))\n",
        "  numero_2 = float(input(\"Ingresa el número 2:\"))\n",
        "  numero_3 = float(input(\"Ingresa el número 3:\"))\n",
        "  numero_4 = float(input(\"Ingresa el número 4:\"))\n",
        "  numero_5 = float(input(\"Ingresa el número 5:\"))\n",
        "  orden_descendente = ordes_(numero_1, numero_2, numero_3, numero_4, numero_5)\n",
        "  print(\"El orden ascendete de los números es \"+str(orden_descendente))\n",
        "#codigo if que da el orden ascendete de los números"
      ]
    }
  ]
}